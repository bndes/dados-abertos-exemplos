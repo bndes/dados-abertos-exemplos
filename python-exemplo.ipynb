{
 "cells": [
  {
   "cell_type": "markdown",
   "id": "e8c50ba6-ea62-46cd-b13e-7b9b62000b8d",
   "metadata": {},
   "source": [
    "# Exemplo processamento de dados com Python\n",
    "\n",
    "Os dados do [Portal de Dados Abertos do BNDES](https://dadosabertos.bndes.gov.br) estão arquivos CSV em formato fácil de processar. Este Notebook:\n",
    "1. baixa um conjunto de dados\n",
    "2. carrega-o em um DataFrame Python\n",
    "3. exibe um gráfico"
   ]
  },
  {
   "cell_type": "code",
   "execution_count": 1,
   "id": "8c66e452-52cd-419f-9e8f-58fded28da88",
   "metadata": {},
   "outputs": [],
   "source": [
    "# bibliotecas externas estão no arquivo requirements.txt\n",
    "import requests\n",
    "from pathlib import Path\n",
    "\n",
    "import pandas as pd\n",
    "import matplotlib.pyplot as plt\n"
   ]
  },
  {
   "cell_type": "code",
   "execution_count": 2,
   "id": "6b2605c0-e3c7-4a01-9ace-30d4673c9698",
   "metadata": {},
   "outputs": [],
   "source": [
    "#O URL está sempre no topo da página de cada recurso.\n",
    "def download_bndes(url_csv):\n",
    "    Path('dados').mkdir(exist_ok=True)\n",
    "    arq = Path('dados') / url_csv.split('/')[-1]\n",
    "\n",
    "    content = None\n",
    "    if not arq.exists():\n",
    "        # baixa arquivo\n",
    "        dados = requests.get(url_csv)\n",
    "        dados.raise_for_status()\n",
    "        content = dados.content\n",
    "        with arq.open('wb') as f:\n",
    "            f.write(content)\n",
    "    else:\n",
    "        print(f\"Arquivo já existe, para forçar download apague o arquivo {arq} e tente de novo\")\n",
    "\n",
    "    return arq    "
   ]
  },
  {
   "cell_type": "code",
   "execution_count": 3,
   "id": "89068a27-50fa-4529-aaa4-857e32a6fdbd",
   "metadata": {},
   "outputs": [
    {
     "name": "stdout",
     "output_type": "stream",
     "text": [
      "Arquivo já existe, para forçar download apague o arquivo dados\\renda-variavel-participacoes-acionarias-historico-da-carteira.csv e tente de novo\n"
     ]
    }
   ],
   "source": [
    "url_participacoes = 'https://dadosabertos.bndes.gov.br/dataset/68a85772-df73-4c8b-8b8c-398f494fcca8/resource/10ff2d60-02d1-4619-8e42-24fc2a5927dd/download/renda-variavel-participacoes-acionarias-historico-da-carteira.csv'\n",
    "arq_dados = download_bndes(url_participacoes)"
   ]
  },
  {
   "cell_type": "markdown",
   "id": "c6f958dd-eeb1-4645-82b3-9c466dd35f15",
   "metadata": {},
   "source": [
    "## Carrega arquivo para Dataframe\n",
    "\n",
    "Todos os dados do Portal de Dados Abertos do BNDES têm o mesmo formato e podem ser lidos com o comando abaixo. Arquivos foram gerados para serem facilmente coompreendidos pelas ferramentas padrão.\n",
    "\n",
    "Os nomes de colunas estão em minúsculas e não tem espaços, acentos ou caracteres especiais, para que sejam fáceis de trabalhar."
   ]
  },
  {
   "cell_type": "code",
   "execution_count": 4,
   "id": "cedf2a52-2e12-4c4a-9bd0-d5dd708eab01",
   "metadata": {},
   "outputs": [
    {
     "data": {
      "text/html": [
       "<div>\n",
       "<style scoped>\n",
       "    .dataframe tbody tr th:only-of-type {\n",
       "        vertical-align: middle;\n",
       "    }\n",
       "\n",
       "    .dataframe tbody tr th {\n",
       "        vertical-align: top;\n",
       "    }\n",
       "\n",
       "    .dataframe thead th {\n",
       "        text-align: right;\n",
       "    }\n",
       "</style>\n",
       "<table border=\"1\" class=\"dataframe\">\n",
       "  <thead>\n",
       "    <tr style=\"text-align: right;\">\n",
       "      <th></th>\n",
       "      <th>sigla</th>\n",
       "      <th>razao_social</th>\n",
       "      <th>cnpj</th>\n",
       "      <th>tipo_de_ativo</th>\n",
       "      <th>ano</th>\n",
       "      <th>setor_de_atividade</th>\n",
       "      <th>total_pp</th>\n",
       "      <th>on_pp</th>\n",
       "      <th>pn_pp</th>\n",
       "      <th>aberta_fechada</th>\n",
       "      <th>acordo_de_acionistas_em_vigor</th>\n",
       "      <th>indicado_para_conselho_de_administracao</th>\n",
       "      <th>indicado_para_conselho_fiscal</th>\n",
       "    </tr>\n",
       "  </thead>\n",
       "  <tbody>\n",
       "    <tr>\n",
       "      <th>0</th>\n",
       "      <td>ABICO</td>\n",
       "      <td>ABICO - CIA. DE INVESTIMENTOS ÁRABE E BRASILEIRO</td>\n",
       "      <td>42.470.443/0001-96</td>\n",
       "      <td>PARTICIPAÇÃO ACIONÁRIA</td>\n",
       "      <td>2021</td>\n",
       "      <td>OUTROS SETORES</td>\n",
       "      <td>35.0</td>\n",
       "      <td>35.0</td>\n",
       "      <td>0.0</td>\n",
       "      <td>FECHADA</td>\n",
       "      <td>NÃO</td>\n",
       "      <td>NÃO</td>\n",
       "      <td>NÃO</td>\n",
       "    </tr>\n",
       "    <tr>\n",
       "      <th>1</th>\n",
       "      <td>ABICO</td>\n",
       "      <td>ABICO - CIA. DE INVESTIMENTOS ÁRABE E BRASILEIRO</td>\n",
       "      <td>42.470.443/0001-96</td>\n",
       "      <td>PARTICIPAÇÃO ACIONÁRIA</td>\n",
       "      <td>2020</td>\n",
       "      <td>OUTROS SETORES</td>\n",
       "      <td>35.0</td>\n",
       "      <td>35.0</td>\n",
       "      <td>0.0</td>\n",
       "      <td>FECHADA</td>\n",
       "      <td>NÃO</td>\n",
       "      <td>NÃO</td>\n",
       "      <td>NÃO</td>\n",
       "    </tr>\n",
       "    <tr>\n",
       "      <th>2</th>\n",
       "      <td>ABICO</td>\n",
       "      <td>ABICO - CIA. DE INVESTIMENTOS ÁRABE E BRASILEIRO</td>\n",
       "      <td>42.470.443/0001-96</td>\n",
       "      <td>PARTICIPAÇÃO ACIONÁRIA</td>\n",
       "      <td>2019</td>\n",
       "      <td>OUTROS SETORES</td>\n",
       "      <td>35.0</td>\n",
       "      <td>35.0</td>\n",
       "      <td>0.0</td>\n",
       "      <td>FECHADA</td>\n",
       "      <td>NÃO</td>\n",
       "      <td>NÃO</td>\n",
       "      <td>NÃO</td>\n",
       "    </tr>\n",
       "    <tr>\n",
       "      <th>3</th>\n",
       "      <td>ABICO</td>\n",
       "      <td>ABICO - CIA. DE INVESTIMENTOS ÁRABE E BRASILEIRO</td>\n",
       "      <td>42.470.443/0001-96</td>\n",
       "      <td>PARTICIPAÇÃO ACIONÁRIA</td>\n",
       "      <td>2018</td>\n",
       "      <td>OUTROS SETORES</td>\n",
       "      <td>35.0</td>\n",
       "      <td>35.0</td>\n",
       "      <td>0.0</td>\n",
       "      <td>FECHADA</td>\n",
       "      <td>NÃO</td>\n",
       "      <td>NÃO</td>\n",
       "      <td>NÃO</td>\n",
       "    </tr>\n",
       "    <tr>\n",
       "      <th>4</th>\n",
       "      <td>ABICO</td>\n",
       "      <td>ABICO - CIA. DE INVESTIMENTOS ÁRABE E BRASILEIRO</td>\n",
       "      <td>42.470.443/0001-96</td>\n",
       "      <td>PARTICIPAÇÃO ACIONÁRIA</td>\n",
       "      <td>2017</td>\n",
       "      <td>OUTROS SETORES</td>\n",
       "      <td>35.0</td>\n",
       "      <td>35.0</td>\n",
       "      <td>0.0</td>\n",
       "      <td>FECHADA</td>\n",
       "      <td>NÃO</td>\n",
       "      <td>NÃO</td>\n",
       "      <td>NÃO</td>\n",
       "    </tr>\n",
       "  </tbody>\n",
       "</table>\n",
       "</div>"
      ],
      "text/plain": [
       "   sigla                                      razao_social  \\\n",
       "0  ABICO  ABICO - CIA. DE INVESTIMENTOS ÁRABE E BRASILEIRO   \n",
       "1  ABICO  ABICO - CIA. DE INVESTIMENTOS ÁRABE E BRASILEIRO   \n",
       "2  ABICO  ABICO - CIA. DE INVESTIMENTOS ÁRABE E BRASILEIRO   \n",
       "3  ABICO  ABICO - CIA. DE INVESTIMENTOS ÁRABE E BRASILEIRO   \n",
       "4  ABICO  ABICO - CIA. DE INVESTIMENTOS ÁRABE E BRASILEIRO   \n",
       "\n",
       "                 cnpj           tipo_de_ativo   ano setor_de_atividade  \\\n",
       "0  42.470.443/0001-96  PARTICIPAÇÃO ACIONÁRIA  2021     OUTROS SETORES   \n",
       "1  42.470.443/0001-96  PARTICIPAÇÃO ACIONÁRIA  2020     OUTROS SETORES   \n",
       "2  42.470.443/0001-96  PARTICIPAÇÃO ACIONÁRIA  2019     OUTROS SETORES   \n",
       "3  42.470.443/0001-96  PARTICIPAÇÃO ACIONÁRIA  2018     OUTROS SETORES   \n",
       "4  42.470.443/0001-96  PARTICIPAÇÃO ACIONÁRIA  2017     OUTROS SETORES   \n",
       "\n",
       "   total_pp  on_pp  pn_pp aberta_fechada acordo_de_acionistas_em_vigor  \\\n",
       "0      35.0   35.0    0.0        FECHADA                           NÃO   \n",
       "1      35.0   35.0    0.0        FECHADA                           NÃO   \n",
       "2      35.0   35.0    0.0        FECHADA                           NÃO   \n",
       "3      35.0   35.0    0.0        FECHADA                           NÃO   \n",
       "4      35.0   35.0    0.0        FECHADA                           NÃO   \n",
       "\n",
       "  indicado_para_conselho_de_administracao indicado_para_conselho_fiscal  \n",
       "0                                     NÃO                           NÃO  \n",
       "1                                     NÃO                           NÃO  \n",
       "2                                     NÃO                           NÃO  \n",
       "3                                     NÃO                           NÃO  \n",
       "4                                     NÃO                           NÃO  "
      ]
     },
     "execution_count": 4,
     "metadata": {},
     "output_type": "execute_result"
    }
   ],
   "source": [
    "df = pd.read_csv(arq_dados, sep=';', decimal=',', encoding='UTF-8')\n",
    "df.head()"
   ]
  },
  {
   "cell_type": "markdown",
   "id": "5427a4da-a988-4ba2-a818-57a65790886c",
   "metadata": {},
   "source": [
    "As colunas já devem ser carregadas com o tipo correto. Não sendo necessário perder tempo convertendo os dados. \n",
    "\n",
    "Dica: em Python, caso haja colunas com datas, use o parâmetro `parse_dates=['nome_col'])`"
   ]
  },
  {
   "cell_type": "code",
   "execution_count": 5,
   "id": "82a0d490-1b7b-40d4-85e5-b03f80a6fc05",
   "metadata": {},
   "outputs": [
    {
     "name": "stdout",
     "output_type": "stream",
     "text": [
      "<class 'pandas.core.frame.DataFrame'>\n",
      "RangeIndex: 2065 entries, 0 to 2064\n",
      "Data columns (total 13 columns):\n",
      " #   Column                                   Non-Null Count  Dtype  \n",
      "---  ------                                   --------------  -----  \n",
      " 0   sigla                                    2065 non-null   object \n",
      " 1   razao_social                             2065 non-null   object \n",
      " 2   cnpj                                     2064 non-null   object \n",
      " 3   tipo_de_ativo                            2065 non-null   object \n",
      " 4   ano                                      2065 non-null   int64  \n",
      " 5   setor_de_atividade                       2061 non-null   object \n",
      " 6   total_pp                                 2042 non-null   float64\n",
      " 7   on_pp                                    2042 non-null   float64\n",
      " 8   pn_pp                                    2042 non-null   float64\n",
      " 9   aberta_fechada                           2064 non-null   object \n",
      " 10  acordo_de_acionistas_em_vigor            2065 non-null   object \n",
      " 11  indicado_para_conselho_de_administracao  2065 non-null   object \n",
      " 12  indicado_para_conselho_fiscal            2065 non-null   object \n",
      "dtypes: float64(3), int64(1), object(9)\n",
      "memory usage: 209.9+ KB\n"
     ]
    }
   ],
   "source": [
    "df.info()"
   ]
  },
  {
   "cell_type": "markdown",
   "id": "fbbbf7ea-66db-4969-88c4-ef6ae42860e7",
   "metadata": {},
   "source": [
    "Agora é só trabalhar com os dados, por exemplo, contando quantas participações acionárias o BNDES tem em empresas."
   ]
  },
  {
   "cell_type": "code",
   "execution_count": 6,
   "id": "7f91cd7d-792e-4776-ac4f-c75d3278ea7c",
   "metadata": {},
   "outputs": [
    {
     "data": {
      "image/png": "[encoded data removed]",
      "text/plain": [
       "<Figure size 720x360 with 1 Axes>"
      ]
     },
     "metadata": {
      "needs_background": "light"
     },
     "output_type": "display_data"
    }
   ],
   "source": [
    "df_num_empresas = df[df.total_pp > 0].groupby('ano')['cnpj'].count()\n",
    "ax = df_num_empresas.plot.line()\n",
    "ax.set_title('Nº Empresas com Participação Acionária', fontsize=18);\n",
    "plt.gcf().set_size_inches(10, 5)\n",
    "plt.box(False);"
   ]
  }
 ],
 "metadata": {
  "kernelspec": {
   "display_name": "Python 3 (ipykernel)",
   "language": "python",
   "name": "python3"
  },
  "language_info": {
   "codemirror_mode": {
    "name": "ipython",
    "version": 3
   },
   "file_extension": ".py",
   "mimetype": "text/x-python",
   "name": "python",
   "nbconvert_exporter": "python",
   "pygments_lexer": "ipython3",
   "version": "3.8.5"
  }
 },
 "nbformat": 4,
 "nbformat_minor": 5
}
